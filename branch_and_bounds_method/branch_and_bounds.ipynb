{
 "cells": [
  {
   "cell_type": "markdown",
   "metadata": {},
   "source": [
    "# Lab 1 Shkadarevich Dmitry - Branch and Bounds method"
   ]
  },
  {
   "cell_type": "markdown",
   "metadata": {},
   "source": [
    "# Formulation of the problem\n",
    "\n",
    "Find the optimal integer solution to the LP problem"
   ]
  },
  {
   "cell_type": "markdown",
   "metadata": {},
   "source": [
    "<img src=\"algo.png\">"
   ]
  },
  {
   "cell_type": "markdown",
   "metadata": {},
   "source": [
    "# Code"
   ]
  },
  {
   "cell_type": "code",
   "execution_count": 27,
   "metadata": {},
   "outputs": [],
   "source": [
    "import numpy as np\n",
    "import queue\n",
    "import math\n",
    "import copy\n",
    "from scipy import optimize"
   ]
  },
  {
   "cell_type": "code",
   "execution_count": 3,
   "metadata": {},
   "outputs": [],
   "source": [
    "def is_int(x): #check if x is integer\n",
    "    return round(x, 3).is_integer()"
   ]
  },
  {
   "cell_type": "code",
   "execution_count": 36,
   "metadata": {},
   "outputs": [],
   "source": [
    "class LPTask:\n",
    "    '''\n",
    "    Linear programming task class\n",
    "\n",
    "    Attributes:\n",
    "    cost_function(c) : 1-D array\n",
    "        The coefficients of the linear objective function to be minimized.\n",
    "    \n",
    "    A_ub : 2-D array\n",
    "        The inequality constraint matrix. Each row of A_ub specifies the \n",
    "        coefficients of a linear inequality constraint on x.\n",
    "    \n",
    "    b_ub : 1-D array\n",
    "        The inequality constraint vector. Each element represents an \n",
    "        upper bound on the corresponding value of A_ub @ x.\n",
    "    \n",
    "    bounds : sequence\n",
    "        A sequence of (min, max) pairs for each element in x, defining \n",
    "        the minimum and maximum values of that decision variable.\n",
    "    '''\n",
    "    def __init__(self, c, A_ub, b_ub, bounds):\n",
    "        self.solution = optimize.linprog(c, A_ub, b_ub, bounds=bounds)\n",
    "        self.x = np.around(self.solution.x,decimals=3) # x optimal\n",
    "        self.fun = self.solution.fun # cost function value\n",
    "        self.success = self.solution.success # is solution feasible?\n",
    "        self.bounds = bounds\n",
    "\n",
    "    def is_explored(self):  # Check if all x values are integer\n",
    "        return all(is_int(x_i) for x_i in self.x) \n",
    "\n",
    "    def __str__(self):\n",
    "        return self.solution.__str__()\n",
    "\n",
    "    def get_float_x(self):\n",
    "         for i,x in enumerate(self.x):\n",
    "            if not is_int(x):\n",
    "                return i,x\n",
    "\n",
    "\n",
    "class BnBSolver:  # Branch and bound method\n",
    "    def __init__(self, initial_task):\n",
    "        self.queue = [initial_task] # Queue of all LP subtasks\n",
    "        self.result = None\n",
    "        self.upper_bound = np.inf # Upper bound of cost function\n",
    "\n",
    "    def solve(self):  # Returns solved LP task with optimal integer solution\n",
    "        while self.queue:\n",
    "            curr_task = self.queue.pop()\n",
    "            if not curr_task.success:\n",
    "                continue\n",
    "            if curr_task.is_explored():\n",
    "                if curr_task.fun <= self.upper_bound: \n",
    "                    self.result = curr_task\n",
    "                    self.upper_bound = curr_task.fun\n",
    "                else:\n",
    "                    continue\n",
    "            else:\n",
    "                self.create_branches(curr_task)\n",
    "        return self.result\n",
    "\n",
    "    def create_branches(self, task):\n",
    "        i,float_x = task.get_float_x()\n",
    "\n",
    "        x_upper_bound = math.ceil(float_x)\n",
    "        x_lower_bound = math.floor(float_x)\n",
    "\n",
    "        # LP1(left) - x[i]<=lower_bound \n",
    "        bounds_left = copy.deepcopy(task.bounds)\n",
    "        bounds_left[i][1] = x_lower_bound\n",
    "        lp_left = LPTask(c,A_ub,b_ub,bounds_left)\n",
    "        self.queue.append(lp_left)\n",
    "        \n",
    "        # LP2(right) - x[i]>=upper_bound \n",
    "        bounds_right = copy.deepcopy(task.bounds)\n",
    "        bounds_right[i][0] = x_upper_bound\n",
    "        lp_right = LPTask(c,A_ub,b_ub,bounds_right)\n",
    "        self.queue.append(lp_right)\n"
   ]
  },
  {
   "cell_type": "markdown",
   "metadata": {},
   "source": [
    "# Test cases"
   ]
  },
  {
   "cell_type": "markdown",
   "metadata": {},
   "source": [
    "<img src=\"1.png\">\n",
    "<img src=\"1_res.png\">"
   ]
  },
  {
   "cell_type": "code",
   "execution_count": 39,
   "metadata": {},
   "outputs": [
    {
     "name": "stdout",
     "output_type": "stream",
     "text": [
      "     con: array([], dtype=float64)\n",
      "     fun: -22.99999985484144\n",
      " message: 'Optimization terminated successfully.'\n",
      "     nit: 4\n",
      "   slack: array([3.25218332e-08, 3.00000026e+00])\n",
      "  status: 0\n",
      " success: True\n",
      "       x: array([2.99999998, 1.99999998])\n"
     ]
    }
   ],
   "source": [
    "c = np.array([-5,-4])\n",
    "A_ub = np.array([[1,1],[10,6]])\n",
    "b_ub = np.array([5,45])\n",
    "bounds = [[0,np.inf],[0,np.inf]]\n",
    "\n",
    "lp0 = LPTask(c,A_ub,b_ub,bounds)\n",
    "\n",
    "branch_and_bound_solver = BnBSolver(lp0)\n",
    "print(branch_and_bound_solver.solve())"
   ]
  },
  {
   "cell_type": "markdown",
   "metadata": {},
   "source": [
    "<img src=\"2.png\">"
   ]
  },
  {
   "cell_type": "code",
   "execution_count": 42,
   "metadata": {},
   "outputs": [
    {
     "name": "stdout",
     "output_type": "stream",
     "text": [
      "     con: array([], dtype=float64)\n",
      "     fun: -54.99999999726958\n",
      " message: 'Optimization terminated successfully.'\n",
      "     nit: 5\n",
      "   slack: array([1., 4.])\n",
      "  status: 0\n",
      " success: True\n",
      "       x: array([4., 3.])\n"
     ]
    }
   ],
   "source": [
    "c = np.array([-7,-9])\n",
    "A_ub = np.array([[-1,3],[7,1]])\n",
    "b_ub = np.array([6,35])\n",
    "bounds = [[0,np.inf],[0,np.inf]]\n",
    "\n",
    "lp0 = LPTask(c,A_ub,b_ub,bounds)\n",
    "\n",
    "branch_and_bound_solver = BnBSolver(lp0)\n",
    "print(branch_and_bound_solver.solve())"
   ]
  },
  {
   "cell_type": "markdown",
   "metadata": {},
   "source": [
    "<img src=\"3.png\">"
   ]
  },
  {
   "cell_type": "code",
   "execution_count": 43,
   "metadata": {},
   "outputs": [
    {
     "name": "stdout",
     "output_type": "stream",
     "text": [
      "     con: array([], dtype=float64)\n",
      "     fun: -15.999999999225022\n",
      " message: 'Optimization terminated successfully.'\n",
      "     nit: 4\n",
      "   slack: array([1., 2.])\n",
      "  status: 0\n",
      " success: True\n",
      "       x: array([5., 2.])\n"
     ]
    }
   ],
   "source": [
    "c = np.array([-2,-3])\n",
    "A_ub = np.array([[3,4],[2,5]])\n",
    "b_ub = np.array([24,22])\n",
    "bounds = [[0,np.inf],[0,np.inf]]\n",
    "\n",
    "lp0 = LPTask(c,A_ub,b_ub,bounds)\n",
    "\n",
    "branch_and_bound_solver = BnBSolver(lp0)\n",
    "print(branch_and_bound_solver.solve())"
   ]
  },
  {
   "cell_type": "code",
   "execution_count": 24,
   "metadata": {},
   "outputs": [],
   "source": []
  }
 ],
 "metadata": {
  "kernelspec": {
   "display_name": "Python 3.6.9 64-bit",
   "name": "python369jvsc74a57bd031f2aee4e71d21fbe5cf8b01ff0e069b9275f58929596ceb00d14d90e3e16cd6"
  },
  "language_info": {
   "codemirror_mode": {
    "name": "ipython",
    "version": 3
   },
   "file_extension": ".py",
   "mimetype": "text/x-python",
   "name": "python",
   "nbconvert_exporter": "python",
   "pygments_lexer": "ipython3",
   "version": "3.6.9"
  },
  "metadata": {
   "interpreter": {
    "hash": "31f2aee4e71d21fbe5cf8b01ff0e069b9275f58929596ceb00d14d90e3e16cd6"
   }
  },
  "orig_nbformat": 2
 },
 "nbformat": 4,
 "nbformat_minor": 2
}